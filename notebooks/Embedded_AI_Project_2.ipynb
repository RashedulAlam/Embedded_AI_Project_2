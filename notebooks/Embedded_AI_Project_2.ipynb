{
  "nbformat": 4,
  "nbformat_minor": 0,
  "metadata": {
    "colab": {
      "provenance": [],
      "collapsed_sections": [
        "-cPGlVJDPev7"
      ],
      "toc_visible": true
    },
    "kernelspec": {
      "name": "python3",
      "display_name": "Python 3"
    },
    "language_info": {
      "name": "python"
    },
    "widgets": {
      "application/vnd.jupyter.widget-state+json": {
        "7398aa4fd4aa402f93756f3afb281c1e": {
          "model_module": "@jupyter-widgets/controls",
          "model_name": "HBoxModel",
          "model_module_version": "1.5.0",
          "state": {
            "_dom_classes": [],
            "_model_module": "@jupyter-widgets/controls",
            "_model_module_version": "1.5.0",
            "_model_name": "HBoxModel",
            "_view_count": null,
            "_view_module": "@jupyter-widgets/controls",
            "_view_module_version": "1.5.0",
            "_view_name": "HBoxView",
            "box_style": "",
            "children": [
              "IPY_MODEL_315ffe32f4db49449802c81ec3595e26",
              "IPY_MODEL_daaa9299683047189fd9f67969e1af0a",
              "IPY_MODEL_b4efa93171d445ffa73ec589b2803ffd"
            ],
            "layout": "IPY_MODEL_a06bd024f73f43f4961a99721252db24"
          }
        },
        "315ffe32f4db49449802c81ec3595e26": {
          "model_module": "@jupyter-widgets/controls",
          "model_name": "HTMLModel",
          "model_module_version": "1.5.0",
          "state": {
            "_dom_classes": [],
            "_model_module": "@jupyter-widgets/controls",
            "_model_module_version": "1.5.0",
            "_model_name": "HTMLModel",
            "_view_count": null,
            "_view_module": "@jupyter-widgets/controls",
            "_view_module_version": "1.5.0",
            "_view_name": "HTMLView",
            "description": "",
            "description_tooltip": null,
            "layout": "IPY_MODEL_b63ca45bd6e04758b3672b9b3d7d6377",
            "placeholder": "​",
            "style": "IPY_MODEL_f6b66a7056ea4de6bf58c51278d0de06",
            "value": "Dl Completed...: 100%"
          }
        },
        "daaa9299683047189fd9f67969e1af0a": {
          "model_module": "@jupyter-widgets/controls",
          "model_name": "FloatProgressModel",
          "model_module_version": "1.5.0",
          "state": {
            "_dom_classes": [],
            "_model_module": "@jupyter-widgets/controls",
            "_model_module_version": "1.5.0",
            "_model_name": "FloatProgressModel",
            "_view_count": null,
            "_view_module": "@jupyter-widgets/controls",
            "_view_module_version": "1.5.0",
            "_view_name": "ProgressView",
            "bar_style": "success",
            "description": "",
            "description_tooltip": null,
            "layout": "IPY_MODEL_f495fd0b8afc49b49c5d2b780b9b29b1",
            "max": 5,
            "min": 0,
            "orientation": "horizontal",
            "style": "IPY_MODEL_e9ed8189317e468f89b75487845eff6f",
            "value": 5
          }
        },
        "b4efa93171d445ffa73ec589b2803ffd": {
          "model_module": "@jupyter-widgets/controls",
          "model_name": "HTMLModel",
          "model_module_version": "1.5.0",
          "state": {
            "_dom_classes": [],
            "_model_module": "@jupyter-widgets/controls",
            "_model_module_version": "1.5.0",
            "_model_name": "HTMLModel",
            "_view_count": null,
            "_view_module": "@jupyter-widgets/controls",
            "_view_module_version": "1.5.0",
            "_view_name": "HTMLView",
            "description": "",
            "description_tooltip": null,
            "layout": "IPY_MODEL_4edb470c27b44024967500df0dd9e755",
            "placeholder": "​",
            "style": "IPY_MODEL_a022e251c5d143a69b8620ccb1c82c2a",
            "value": " 5/5 [00:00&lt;00:00, 15.88 file/s]"
          }
        },
        "a06bd024f73f43f4961a99721252db24": {
          "model_module": "@jupyter-widgets/base",
          "model_name": "LayoutModel",
          "model_module_version": "1.2.0",
          "state": {
            "_model_module": "@jupyter-widgets/base",
            "_model_module_version": "1.2.0",
            "_model_name": "LayoutModel",
            "_view_count": null,
            "_view_module": "@jupyter-widgets/base",
            "_view_module_version": "1.2.0",
            "_view_name": "LayoutView",
            "align_content": null,
            "align_items": null,
            "align_self": null,
            "border": null,
            "bottom": null,
            "display": null,
            "flex": null,
            "flex_flow": null,
            "grid_area": null,
            "grid_auto_columns": null,
            "grid_auto_flow": null,
            "grid_auto_rows": null,
            "grid_column": null,
            "grid_gap": null,
            "grid_row": null,
            "grid_template_areas": null,
            "grid_template_columns": null,
            "grid_template_rows": null,
            "height": null,
            "justify_content": null,
            "justify_items": null,
            "left": null,
            "margin": null,
            "max_height": null,
            "max_width": null,
            "min_height": null,
            "min_width": null,
            "object_fit": null,
            "object_position": null,
            "order": null,
            "overflow": null,
            "overflow_x": null,
            "overflow_y": null,
            "padding": null,
            "right": null,
            "top": null,
            "visibility": null,
            "width": null
          }
        },
        "b63ca45bd6e04758b3672b9b3d7d6377": {
          "model_module": "@jupyter-widgets/base",
          "model_name": "LayoutModel",
          "model_module_version": "1.2.0",
          "state": {
            "_model_module": "@jupyter-widgets/base",
            "_model_module_version": "1.2.0",
            "_model_name": "LayoutModel",
            "_view_count": null,
            "_view_module": "@jupyter-widgets/base",
            "_view_module_version": "1.2.0",
            "_view_name": "LayoutView",
            "align_content": null,
            "align_items": null,
            "align_self": null,
            "border": null,
            "bottom": null,
            "display": null,
            "flex": null,
            "flex_flow": null,
            "grid_area": null,
            "grid_auto_columns": null,
            "grid_auto_flow": null,
            "grid_auto_rows": null,
            "grid_column": null,
            "grid_gap": null,
            "grid_row": null,
            "grid_template_areas": null,
            "grid_template_columns": null,
            "grid_template_rows": null,
            "height": null,
            "justify_content": null,
            "justify_items": null,
            "left": null,
            "margin": null,
            "max_height": null,
            "max_width": null,
            "min_height": null,
            "min_width": null,
            "object_fit": null,
            "object_position": null,
            "order": null,
            "overflow": null,
            "overflow_x": null,
            "overflow_y": null,
            "padding": null,
            "right": null,
            "top": null,
            "visibility": null,
            "width": null
          }
        },
        "f6b66a7056ea4de6bf58c51278d0de06": {
          "model_module": "@jupyter-widgets/controls",
          "model_name": "DescriptionStyleModel",
          "model_module_version": "1.5.0",
          "state": {
            "_model_module": "@jupyter-widgets/controls",
            "_model_module_version": "1.5.0",
            "_model_name": "DescriptionStyleModel",
            "_view_count": null,
            "_view_module": "@jupyter-widgets/base",
            "_view_module_version": "1.2.0",
            "_view_name": "StyleView",
            "description_width": ""
          }
        },
        "f495fd0b8afc49b49c5d2b780b9b29b1": {
          "model_module": "@jupyter-widgets/base",
          "model_name": "LayoutModel",
          "model_module_version": "1.2.0",
          "state": {
            "_model_module": "@jupyter-widgets/base",
            "_model_module_version": "1.2.0",
            "_model_name": "LayoutModel",
            "_view_count": null,
            "_view_module": "@jupyter-widgets/base",
            "_view_module_version": "1.2.0",
            "_view_name": "LayoutView",
            "align_content": null,
            "align_items": null,
            "align_self": null,
            "border": null,
            "bottom": null,
            "display": null,
            "flex": null,
            "flex_flow": null,
            "grid_area": null,
            "grid_auto_columns": null,
            "grid_auto_flow": null,
            "grid_auto_rows": null,
            "grid_column": null,
            "grid_gap": null,
            "grid_row": null,
            "grid_template_areas": null,
            "grid_template_columns": null,
            "grid_template_rows": null,
            "height": null,
            "justify_content": null,
            "justify_items": null,
            "left": null,
            "margin": null,
            "max_height": null,
            "max_width": null,
            "min_height": null,
            "min_width": null,
            "object_fit": null,
            "object_position": null,
            "order": null,
            "overflow": null,
            "overflow_x": null,
            "overflow_y": null,
            "padding": null,
            "right": null,
            "top": null,
            "visibility": null,
            "width": null
          }
        },
        "e9ed8189317e468f89b75487845eff6f": {
          "model_module": "@jupyter-widgets/controls",
          "model_name": "ProgressStyleModel",
          "model_module_version": "1.5.0",
          "state": {
            "_model_module": "@jupyter-widgets/controls",
            "_model_module_version": "1.5.0",
            "_model_name": "ProgressStyleModel",
            "_view_count": null,
            "_view_module": "@jupyter-widgets/base",
            "_view_module_version": "1.2.0",
            "_view_name": "StyleView",
            "bar_color": null,
            "description_width": ""
          }
        },
        "4edb470c27b44024967500df0dd9e755": {
          "model_module": "@jupyter-widgets/base",
          "model_name": "LayoutModel",
          "model_module_version": "1.2.0",
          "state": {
            "_model_module": "@jupyter-widgets/base",
            "_model_module_version": "1.2.0",
            "_model_name": "LayoutModel",
            "_view_count": null,
            "_view_module": "@jupyter-widgets/base",
            "_view_module_version": "1.2.0",
            "_view_name": "LayoutView",
            "align_content": null,
            "align_items": null,
            "align_self": null,
            "border": null,
            "bottom": null,
            "display": null,
            "flex": null,
            "flex_flow": null,
            "grid_area": null,
            "grid_auto_columns": null,
            "grid_auto_flow": null,
            "grid_auto_rows": null,
            "grid_column": null,
            "grid_gap": null,
            "grid_row": null,
            "grid_template_areas": null,
            "grid_template_columns": null,
            "grid_template_rows": null,
            "height": null,
            "justify_content": null,
            "justify_items": null,
            "left": null,
            "margin": null,
            "max_height": null,
            "max_width": null,
            "min_height": null,
            "min_width": null,
            "object_fit": null,
            "object_position": null,
            "order": null,
            "overflow": null,
            "overflow_x": null,
            "overflow_y": null,
            "padding": null,
            "right": null,
            "top": null,
            "visibility": null,
            "width": null
          }
        },
        "a022e251c5d143a69b8620ccb1c82c2a": {
          "model_module": "@jupyter-widgets/controls",
          "model_name": "DescriptionStyleModel",
          "model_module_version": "1.5.0",
          "state": {
            "_model_module": "@jupyter-widgets/controls",
            "_model_module_version": "1.5.0",
            "_model_name": "DescriptionStyleModel",
            "_view_count": null,
            "_view_module": "@jupyter-widgets/base",
            "_view_module_version": "1.2.0",
            "_view_name": "StyleView",
            "description_width": ""
          }
        }
      }
    }
  },
  "cells": [
    {
      "cell_type": "markdown",
      "source": [
        "#**Embedded_AI_Project_2**\n",
        "\n",
        "Outline of this notebook\n",
        "\n",
        "\n",
        "*   Prerequisite Installation and Importing libraries\n",
        "*   Loading the Pretrained Model\n",
        "*   Pruning the fine tuned model\n",
        "*   Quantization the model\n",
        "*   Model Testing\n",
        "*   Conclusion\n",
        "\n",
        "\n",
        "\n",
        "\n",
        "\n"
      ],
      "metadata": {
        "id": "5mafqQuoF6Ch"
      }
    },
    {
      "cell_type": "markdown",
      "source": [
        "## **Prerequisite Installation and Importing libraries**\n",
        "\n",
        "On this step we install the required libraries and import them for next steps"
      ],
      "metadata": {
        "id": "wqt1mkXwGr_C"
      }
    },
    {
      "cell_type": "markdown",
      "source": [
        "**tensorflow-model-optimization** library will be used for model pruing and quantization.\n",
        "\n",
        "Other required libraries are keras and tensorflow already on google colab for machine learning model processing"
      ],
      "metadata": {
        "id": "rPRdoUsVHdUf"
      }
    },
    {
      "cell_type": "code",
      "source": [
        "!pip install -q tensorflow-model-optimization"
      ],
      "metadata": {
        "id": "iKckDyP6IAZX",
        "colab": {
          "base_uri": "https://localhost:8080/"
        },
        "outputId": "b6a67a99-6e54-4185-dbe4-7526aaedc4fd"
      },
      "execution_count": 2,
      "outputs": [
        {
          "output_type": "stream",
          "name": "stdout",
          "text": [
            "\u001b[?25l     \u001b[90m━━━━━━━━━━━━━━━━━━━━━━━━━━━━━━━━━━━━━━━━\u001b[0m \u001b[32m0.0/242.5 kB\u001b[0m \u001b[31m?\u001b[0m eta \u001b[36m-:--:--\u001b[0m\r\u001b[2K     \u001b[91m━━━━━━━━━━\u001b[0m\u001b[90m╺\u001b[0m\u001b[90m━━━━━━━━━━━━━━━━━━━━━━━━━━━━━\u001b[0m \u001b[32m61.4/242.5 kB\u001b[0m \u001b[31m1.6 MB/s\u001b[0m eta \u001b[36m0:00:01\u001b[0m\r\u001b[2K     \u001b[90m━━━━━━━━━━━━━━━━━━━━━━━━━━━━━━━━━━━━━━━━\u001b[0m \u001b[32m242.5/242.5 kB\u001b[0m \u001b[31m3.8 MB/s\u001b[0m eta \u001b[36m0:00:00\u001b[0m\n",
            "\u001b[?25h"
          ]
        }
      ]
    },
    {
      "cell_type": "code",
      "source": [
        "import tempfile\n",
        "import os\n",
        "import tensorflow as tf\n",
        "import numpy as np\n",
        "import tensorflow.keras as keras\n",
        "import tensorflow_datasets as tfds\n",
        "import matplotlib.pyplot as plt\n",
        "tf.random.set_seed(\n",
        "    seed=81\n",
        ")"
      ],
      "metadata": {
        "id": "bQOfIUc5IN8g"
      },
      "execution_count": 3,
      "outputs": []
    },
    {
      "cell_type": "markdown",
      "source": [
        "## **Loading the Pretrained Model**\n",
        "\n",
        "On this step we load the pretrained model for prunning and quantization from github repository"
      ],
      "metadata": {
        "id": "NFU1IM6nGyH0"
      }
    },
    {
      "cell_type": "markdown",
      "source": [
        "### Download the pretrained model from github"
      ],
      "metadata": {
        "id": "-cPGlVJDPev7"
      }
    },
    {
      "cell_type": "code",
      "source": [
        "file_url = 'https://github.com/raisul-kibria/EmbAI_2024/blob/master/saved_model/Full_Precision_MNIST_TF.h5'\n",
        "\n",
        "# destination_filename = 'Full_Precision_MNIST_TF.h5'\n",
        "_, destination_filename = tempfile.mkstemp('.h5')\n",
        "\n",
        "!wget -O {destination_filename} {file_url}\n"
      ],
      "metadata": {
        "colab": {
          "base_uri": "https://localhost:8080/"
        },
        "id": "Ts63hWcOJo0B",
        "outputId": "b481127f-3f49-4fb8-8cda-025a67bc48d3"
      },
      "execution_count": 4,
      "outputs": [
        {
          "output_type": "stream",
          "name": "stdout",
          "text": [
            "--2024-05-26 23:05:46--  https://github.com/raisul-kibria/EmbAI_2024/blob/master/saved_model/Full_Precision_MNIST_TF.h5\n",
            "Resolving github.com (github.com)... 140.82.113.3\n",
            "Connecting to github.com (github.com)|140.82.113.3|:443... connected.\n",
            "HTTP request sent, awaiting response... 200 OK\n",
            "Length: unspecified [text/html]\n",
            "Saving to: ‘/tmp/tmpd2h514tx.h5’\n",
            "\n",
            "/tmp/tmpd2h514tx.h5     [  <=>               ] 259.23K  1.15MB/s    in 0.2s    \n",
            "\n",
            "2024-05-26 23:05:47 (1.15 MB/s) - ‘/tmp/tmpd2h514tx.h5’ saved [265455]\n",
            "\n"
          ]
        }
      ]
    },
    {
      "cell_type": "code",
      "source": [
        "!ls\n",
        "!pwd"
      ],
      "metadata": {
        "colab": {
          "base_uri": "https://localhost:8080/"
        },
        "id": "IFhDDKpSK7Qm",
        "outputId": "bc328086-2d92-46c2-ed5c-661bb3907f94"
      },
      "execution_count": 5,
      "outputs": [
        {
          "output_type": "stream",
          "name": "stdout",
          "text": [
            "sample_data\n",
            "/content\n"
          ]
        }
      ]
    },
    {
      "cell_type": "markdown",
      "source": [
        "## **Pruning the fine tuned model**\n",
        "\n",
        "On this step we fine tune the model by applying the pruning API and see the accuracy"
      ],
      "metadata": {
        "id": "ezWoZ2paG1MT"
      }
    },
    {
      "cell_type": "markdown",
      "source": [
        "### **Preprocessing**"
      ],
      "metadata": {
        "id": "SvDu54x9P_Do"
      }
    },
    {
      "cell_type": "code",
      "source": [
        "batch_size = 128\n",
        "n_epochs = 4"
      ],
      "metadata": {
        "id": "D6C1xLGrP_Dp"
      },
      "execution_count": 6,
      "outputs": []
    },
    {
      "cell_type": "code",
      "source": [
        "(ds_train, ds_val, ds_test), ds_info = tfds.load(\n",
        "    'mnist',\n",
        "    split=['train[:90%]', 'train[90%:]', 'test'],\n",
        "    shuffle_files=True,\n",
        "    as_supervised=True,\n",
        "    with_info=True,\n",
        ")"
      ],
      "metadata": {
        "id": "MHlVwtLFP_Dp",
        "colab": {
          "base_uri": "https://localhost:8080/",
          "height": 104,
          "referenced_widgets": [
            "7398aa4fd4aa402f93756f3afb281c1e",
            "315ffe32f4db49449802c81ec3595e26",
            "daaa9299683047189fd9f67969e1af0a",
            "b4efa93171d445ffa73ec589b2803ffd",
            "a06bd024f73f43f4961a99721252db24",
            "b63ca45bd6e04758b3672b9b3d7d6377",
            "f6b66a7056ea4de6bf58c51278d0de06",
            "f495fd0b8afc49b49c5d2b780b9b29b1",
            "e9ed8189317e468f89b75487845eff6f",
            "4edb470c27b44024967500df0dd9e755",
            "a022e251c5d143a69b8620ccb1c82c2a"
          ]
        },
        "outputId": "033ddd81-20e0-4cd3-e22e-2bf6943c8975"
      },
      "execution_count": 7,
      "outputs": [
        {
          "output_type": "stream",
          "name": "stdout",
          "text": [
            "Downloading and preparing dataset 11.06 MiB (download: 11.06 MiB, generated: 21.00 MiB, total: 32.06 MiB) to /root/tensorflow_datasets/mnist/3.0.1...\n"
          ]
        },
        {
          "output_type": "display_data",
          "data": {
            "text/plain": [
              "Dl Completed...:   0%|          | 0/5 [00:00<?, ? file/s]"
            ],
            "application/vnd.jupyter.widget-view+json": {
              "version_major": 2,
              "version_minor": 0,
              "model_id": "7398aa4fd4aa402f93756f3afb281c1e"
            }
          },
          "metadata": {}
        },
        {
          "output_type": "stream",
          "name": "stdout",
          "text": [
            "Dataset mnist downloaded and prepared to /root/tensorflow_datasets/mnist/3.0.1. Subsequent calls will reuse this data.\n"
          ]
        }
      ]
    },
    {
      "cell_type": "code",
      "source": [
        "def extract_labels(dataset):\n",
        "    labels = []\n",
        "    for _, label in dataset:\n",
        "        labels.append(label.numpy())\n",
        "    return np.array(labels)\n",
        "\n",
        "# Extract labels for train and test datasets\n",
        "train_labels = extract_labels(ds_train)\n",
        "test_labels = extract_labels(ds_test)\n",
        "\n",
        "# Print the shape of the labels arrays\n",
        "print(\"Train labels shape:\", train_labels.shape)\n",
        "print(\"Test labels shape:\", test_labels.shape)"
      ],
      "metadata": {
        "colab": {
          "base_uri": "https://localhost:8080/"
        },
        "outputId": "7858a794-c9db-403f-e61f-da5e81d57808",
        "id": "O2FtlW0-P_Dp"
      },
      "execution_count": 8,
      "outputs": [
        {
          "output_type": "stream",
          "name": "stdout",
          "text": [
            "Train labels shape: (54000,)\n",
            "Test labels shape: (10000,)\n"
          ]
        }
      ]
    },
    {
      "cell_type": "code",
      "source": [
        "ds = ds_train.take(1)  # Only take a single example\n",
        "for example in ds:  # example is `('image': tf.Tensor, 'label': tf.Tensor)`\n",
        "  image = example[0]\n",
        "  label = example[1]\n",
        "  print(f\"Input image shape: {image.shape}\\nImage type: {image.dtype}\")\n",
        "  print(f\"Label shape: {label.shape}\\nLabel type: {label.dtype}\")\n",
        "  plt.imshow(image, cmap='gray')\n",
        "  plt.title(label.numpy())\n",
        "  plt.axis(\"off\")\n",
        "  plt.show()"
      ],
      "metadata": {
        "colab": {
          "base_uri": "https://localhost:8080/",
          "height": 497
        },
        "outputId": "ce8072dc-3df0-43f0-ab32-5c56942292b7",
        "id": "r0EjEHGCP_Dp"
      },
      "execution_count": 9,
      "outputs": [
        {
          "output_type": "stream",
          "name": "stdout",
          "text": [
            "Input image shape: (28, 28, 1)\n",
            "Image type: <dtype: 'uint8'>\n",
            "Label shape: ()\n",
            "Label type: <dtype: 'int64'>\n"
          ]
        },
        {
          "output_type": "display_data",
          "data": {
            "text/plain": [
              "<Figure size 640x480 with 1 Axes>"
            ],
            "image/png": "[encoded data removed]"
          },
          "metadata": {}
        }
      ]
    },
    {
      "cell_type": "code",
      "source": [
        "fig = tfds.show_examples(ds_test, ds_info)"
      ],
      "metadata": {
        "colab": {
          "base_uri": "https://localhost:8080/",
          "height": 749
        },
        "outputId": "db1ce855-dede-44c0-e932-2d4d321b10e0",
        "id": "rFywjdWTP_Dp"
      },
      "execution_count": 10,
      "outputs": [
        {
          "output_type": "display_data",
          "data": {
            "text/plain": [
              "<Figure size 900x900 with 9 Axes>"
            ],
            "image/png": "[encoded data removed]"
          },
          "metadata": {}
        }
      ]
    },
    {
      "cell_type": "code",
      "source": [
        "def normalize_img(image:tf.uint8, label:tf.int64):\n",
        "  \"\"\"Normalizes images: `uint8` -> `float32`.\"\"\"\n",
        "  return tf.cast(image, tf.float32) / 255., label\n",
        "\n",
        "def normalize_splits(ds, split_name: str, batch_size: int):\n",
        "  \"\"\"Applies preprocessing to train, val and test sets\"\"\"\n",
        "  ds = ds.map(\n",
        "    normalize_img, num_parallel_calls=tf.data.AUTOTUNE\n",
        "  )\n",
        "  ds = ds.cache() # Caching makes it faster for consecutive runs\n",
        "  if split_name != 'test':\n",
        "    # Shuffling is not done for the test set\n",
        "    ds = ds.shuffle(ds_info.splits[split_name].num_examples)\n",
        "  ds = ds.batch(batch_size)\n",
        "  ds = ds.prefetch(tf.data.AUTOTUNE)\n",
        "  return ds"
      ],
      "metadata": {
        "id": "HkuNKmW8P_Dq"
      },
      "execution_count": 11,
      "outputs": []
    },
    {
      "cell_type": "code",
      "source": [
        "ds_train = normalize_splits(ds_train, split_name='train[:90%]', batch_size=batch_size)\n",
        "ds_val = normalize_splits(ds_val, split_name='train[90%:]', batch_size=batch_size)\n",
        "ds_test = normalize_splits(ds_test, split_name='test', batch_size=batch_size)"
      ],
      "metadata": {
        "id": "5-SW2hVwP_Dq"
      },
      "execution_count": 12,
      "outputs": []
    },
    {
      "cell_type": "markdown",
      "source": [
        "### **Training Neural Network**"
      ],
      "metadata": {
        "id": "12avdMPHLYV_"
      }
    },
    {
      "cell_type": "code",
      "execution_count": 13,
      "metadata": {
        "id": "pbY-KGMPvbW9",
        "colab": {
          "base_uri": "https://localhost:8080/"
        },
        "outputId": "b722c814-3bfe-498f-c3f8-979ff572c96b"
      },
      "outputs": [
        {
          "output_type": "stream",
          "name": "stdout",
          "text": [
            "Model: \"sequential\"\n",
            "_________________________________________________________________\n",
            " Layer (type)                Output Shape              Param #   \n",
            "=================================================================\n",
            " conv2d (Conv2D)             (None, 28, 28, 6)         156       \n",
            "                                                                 \n",
            " max_pooling2d (MaxPooling2  (None, 14, 14, 6)         0         \n",
            " D)                                                              \n",
            "                                                                 \n",
            " conv2d_1 (Conv2D)           (None, 14, 14, 16)        2416      \n",
            "                                                                 \n",
            " max_pooling2d_1 (MaxPoolin  (None, 7, 7, 16)          0         \n",
            " g2D)                                                            \n",
            "                                                                 \n",
            " flatten (Flatten)           (None, 784)               0         \n",
            "                                                                 \n",
            " dense (Dense)               (None, 120)               94200     \n",
            "                                                                 \n",
            " dense_1 (Dense)             (None, 84)                10164     \n",
            "                                                                 \n",
            " dense_2 (Dense)             (None, 10)                850       \n",
            "                                                                 \n",
            "=================================================================\n",
            "Total params: 107786 (421.04 KB)\n",
            "Trainable params: 107786 (421.04 KB)\n",
            "Non-trainable params: 0 (0.00 Byte)\n",
            "_________________________________________________________________\n"
          ]
        }
      ],
      "source": [
        "# Define the model architecture (LeNet-5).\n",
        "\n",
        "model = keras.Sequential([\n",
        "  keras.layers.InputLayer(input_shape=(28, 28, 1)),\n",
        "  keras.layers.Conv2D(filters=6, kernel_size=(5, 5), padding='same', activation='relu'),\n",
        "  keras.layers.MaxPooling2D(pool_size=(2, 2)),\n",
        "  keras.layers.Conv2D(filters=16, kernel_size=(5, 5), padding='same', activation='relu'),\n",
        "  keras.layers.MaxPooling2D(pool_size=(2, 2)),\n",
        "  keras.layers.Flatten(),\n",
        "  keras.layers.Dense(120),\n",
        "  keras.layers.Dense(84),\n",
        "  keras.layers.Dense(10, activation='softmax')\n",
        "])\n",
        "\n",
        "# As truth labels are integer encoded, we use sparse categorical cross-entropy as loss fn\n",
        "model.compile(optimizer='adam',\n",
        "              loss=keras.losses.SparseCategoricalCrossentropy(from_logits=False), # the ouputs are expected as probabilities\n",
        "              metrics=['accuracy'])\n",
        "\n",
        "model.summary()"
      ]
    },
    {
      "cell_type": "code",
      "source": [
        "model.fit(\n",
        "  ds_train,\n",
        "  epochs=n_epochs,\n",
        "  validation_data=ds_val,\n",
        ")"
      ],
      "metadata": {
        "colab": {
          "base_uri": "https://localhost:8080/"
        },
        "id": "-BG8So727vqp",
        "outputId": "4f5883ff-2b20-40dc-d561-1999b45ef179"
      },
      "execution_count": 14,
      "outputs": [
        {
          "output_type": "stream",
          "name": "stdout",
          "text": [
            "Epoch 1/4\n",
            "422/422 [==============================] - 44s 96ms/step - loss: 0.2563 - accuracy: 0.9232 - val_loss: 0.0857 - val_accuracy: 0.9750\n",
            "Epoch 2/4\n",
            "422/422 [==============================] - 36s 84ms/step - loss: 0.0755 - accuracy: 0.9766 - val_loss: 0.0679 - val_accuracy: 0.9808\n",
            "Epoch 3/4\n",
            "422/422 [==============================] - 37s 88ms/step - loss: 0.0580 - accuracy: 0.9818 - val_loss: 0.0628 - val_accuracy: 0.9820\n",
            "Epoch 4/4\n",
            "422/422 [==============================] - 37s 88ms/step - loss: 0.0466 - accuracy: 0.9851 - val_loss: 0.0571 - val_accuracy: 0.9833\n"
          ]
        },
        {
          "output_type": "execute_result",
          "data": {
            "text/plain": [
              "<keras.src.callbacks.History at 0x79f454317b50>"
            ]
          },
          "metadata": {},
          "execution_count": 14
        }
      ]
    },
    {
      "cell_type": "code",
      "execution_count": 15,
      "metadata": {
        "id": "RyIKnbVZafIH",
        "colab": {
          "base_uri": "https://localhost:8080/"
        },
        "outputId": "dc4c9db4-b3f2-4c03-c9e7-2f044dbd3037"
      },
      "outputs": [
        {
          "output_type": "stream",
          "name": "stdout",
          "text": [
            "Baseline test accuracy: 0.9843000173568726\n"
          ]
        }
      ],
      "source": [
        "_, baseline_accuracy = model.evaluate(\n",
        "    ds_test, verbose=0)\n",
        "\n",
        "print('Baseline test accuracy:', baseline_accuracy)"
      ]
    },
    {
      "cell_type": "code",
      "source": [
        "import tempfile\n",
        "import os"
      ],
      "metadata": {
        "id": "akFCV03WKFuK"
      },
      "execution_count": 16,
      "outputs": []
    },
    {
      "cell_type": "code",
      "source": [
        "# Saving the model in .h5 format\n",
        "\n",
        "keras_file = './Full_Precision_MNIST_TF.h5'\n",
        "if os.path.exists(keras_file):\n",
        "        # If the file exists, delete it\n",
        "        os.remove(keras_file)\n",
        "\n",
        "with open(keras_file, 'w') as file:\n",
        "        print('empty file created ')\n",
        "\n",
        "keras.models.save_model(model, keras_file, include_optimizer=False)\n"
      ],
      "metadata": {
        "colab": {
          "base_uri": "https://localhost:8080/"
        },
        "id": "Igc0jGH6NSf_",
        "outputId": "2d55c360-f2fc-48f0-dbaf-9d520266e056"
      },
      "execution_count": 17,
      "outputs": [
        {
          "output_type": "stream",
          "name": "stdout",
          "text": [
            "empty file created \n"
          ]
        },
        {
          "output_type": "stream",
          "name": "stderr",
          "text": [
            "<ipython-input-17-fbf02abb530e>:11: UserWarning: You are saving your model as an HDF5 file via `model.save()`. This file format is considered legacy. We recommend using instead the native Keras format, e.g. `model.save('my_model.keras')`.\n",
            "  keras.models.save_model(model, keras_file, include_optimizer=False)\n"
          ]
        }
      ]
    },
    {
      "cell_type": "markdown",
      "source": [
        "### **Prunning the model**"
      ],
      "metadata": {
        "id": "4twQUUqfVx0W"
      }
    },
    {
      "cell_type": "code",
      "source": [
        "import tempfile\n",
        "import os\n",
        "\n",
        "import tensorflow as tf\n",
        "import numpy as np\n",
        "\n",
        "from tensorflow_model_optimization.python.core.keras.compat import keras\n",
        "\n",
        "%load_ext tensorboard\n"
      ],
      "metadata": {
        "id": "HGC_iO0SV1rB"
      },
      "execution_count": 18,
      "outputs": []
    },
    {
      "cell_type": "code",
      "source": [
        "import tensorflow_model_optimization as tfmot\n",
        "\n",
        "prune_low_magnitude = tfmot.sparsity.keras.prune_low_magnitude\n",
        "\n",
        "# Compute end step to finish pruning after 2 epochs.\n",
        "batch_size = 128\n",
        "epochs = 2\n",
        "validation_split = 0.1 # 10% of training set will be used for validation set.\n",
        "\n",
        "num_images = len(ds_train) * (1 - validation_split)\n",
        "end_step = np.ceil(num_images / batch_size).astype(np.int32) * epochs\n",
        "\n",
        "# Define model for pruning.\n",
        "pruning_params = {\n",
        "      'pruning_schedule': tfmot.sparsity.keras.PolynomialDecay(initial_sparsity=0.50,\n",
        "                                                               final_sparsity=0.80,\n",
        "                                                               begin_step=0,\n",
        "                                                               end_step=end_step)\n",
        "}\n",
        "\n",
        "model_for_pruning = prune_low_magnitude(model, **pruning_params)\n",
        "\n",
        "# `prune_low_magnitude` requires a recompile.\n",
        "model_for_pruning.compile(optimizer='adam',\n",
        "              loss=keras.losses.SparseCategoricalCrossentropy(from_logits=True),\n",
        "              metrics=['accuracy'])\n",
        "\n",
        "model_for_pruning.summary()"
      ],
      "metadata": {
        "colab": {
          "base_uri": "https://localhost:8080/"
        },
        "id": "Rnsqyag2V4ro",
        "outputId": "44ab6a00-d706-4a2d-f4b6-71b1825807d5"
      },
      "execution_count": 19,
      "outputs": [
        {
          "output_type": "stream",
          "name": "stdout",
          "text": [
            "Model: \"sequential\"\n",
            "_________________________________________________________________\n",
            " Layer (type)                Output Shape              Param #   \n",
            "=================================================================\n",
            " prune_low_magnitude_conv2d  (None, 28, 28, 6)         308       \n",
            "  (PruneLowMagnitude)                                            \n",
            "                                                                 \n",
            " prune_low_magnitude_max_po  (None, 14, 14, 6)         1         \n",
            " oling2d (PruneLowMagnitude                                      \n",
            " )                                                               \n",
            "                                                                 \n",
            " prune_low_magnitude_conv2d  (None, 14, 14, 16)        4818      \n",
            " _1 (PruneLowMagnitude)                                          \n",
            "                                                                 \n",
            " prune_low_magnitude_max_po  (None, 7, 7, 16)          1         \n",
            " oling2d_1 (PruneLowMagnitu                                      \n",
            " de)                                                             \n",
            "                                                                 \n",
            " prune_low_magnitude_flatte  (None, 784)               1         \n",
            " n (PruneLowMagnitude)                                           \n",
            "                                                                 \n",
            " prune_low_magnitude_dense   (None, 120)               188282    \n",
            " (PruneLowMagnitude)                                             \n",
            "                                                                 \n",
            " prune_low_magnitude_dense_  (None, 84)                20246     \n",
            " 1 (PruneLowMagnitude)                                           \n",
            "                                                                 \n",
            " prune_low_magnitude_dense_  (None, 10)                1692      \n",
            " 2 (PruneLowMagnitude)                                           \n",
            "                                                                 \n",
            "=================================================================\n",
            "Total params: 215349 (841.24 KB)\n",
            "Trainable params: 107786 (421.04 KB)\n",
            "Non-trainable params: 107563 (420.20 KB)\n",
            "_________________________________________________________________\n"
          ]
        }
      ]
    },
    {
      "cell_type": "code",
      "source": [
        "logdir = tempfile.mkdtemp()\n",
        "\n",
        "callbacks = [\n",
        "  tfmot.sparsity.keras.UpdatePruningStep(),\n",
        "  tfmot.sparsity.keras.PruningSummaries(log_dir=logdir),\n",
        "]\n",
        "\n",
        "model_for_pruning.fit(ds_train,\n",
        "                  batch_size=batch_size, epochs=epochs, #validation_split=validation_split,\n",
        "                  callbacks=callbacks)"
      ],
      "metadata": {
        "colab": {
          "base_uri": "https://localhost:8080/"
        },
        "id": "tr28qzD4WDiw",
        "outputId": "6324a4a5-4d21-48c1-8c25-838493431071"
      },
      "execution_count": 20,
      "outputs": [
        {
          "output_type": "stream",
          "name": "stdout",
          "text": [
            "Epoch 1/2\n"
          ]
        },
        {
          "output_type": "stream",
          "name": "stderr",
          "text": [
            "/usr/local/lib/python3.10/dist-packages/keras/src/backend.py:5727: UserWarning: \"`sparse_categorical_crossentropy` received `from_logits=True`, but the `output` argument was produced by a Softmax activation and thus does not represent logits. Was this intended?\n",
            "  output, from_logits = _get_logits(\n"
          ]
        },
        {
          "output_type": "stream",
          "name": "stdout",
          "text": [
            "422/422 [==============================] - 40s 85ms/step - loss: 0.0433 - accuracy: 0.9869\n",
            "Epoch 2/2\n",
            "422/422 [==============================] - 36s 85ms/step - loss: 0.0348 - accuracy: 0.9888\n"
          ]
        },
        {
          "output_type": "execute_result",
          "data": {
            "text/plain": [
              "<keras.src.callbacks.History at 0x79f44d33d180>"
            ]
          },
          "metadata": {},
          "execution_count": 20
        }
      ]
    },
    {
      "cell_type": "code",
      "source": [
        "_, model_for_pruning_accuracy = model_for_pruning.evaluate(\n",
        "   ds_test, verbose=0)\n",
        "\n",
        "print('Baseline test accuracy:', baseline_accuracy)\n",
        "print('Pruned test accuracy:', model_for_pruning_accuracy)"
      ],
      "metadata": {
        "colab": {
          "base_uri": "https://localhost:8080/"
        },
        "id": "Gs_z1xsEWHMe",
        "outputId": "94387b78-26ec-46bb-b076-05ca26c27f7a"
      },
      "execution_count": 21,
      "outputs": [
        {
          "output_type": "stream",
          "name": "stdout",
          "text": [
            "Baseline test accuracy: 0.9843000173568726\n",
            "Pruned test accuracy: 0.9836000204086304\n"
          ]
        }
      ]
    },
    {
      "cell_type": "markdown",
      "source": [
        "### **3x smaller models from pruning**"
      ],
      "metadata": {
        "id": "JrUMWO6fa_Ug"
      }
    },
    {
      "cell_type": "code",
      "source": [
        "model_for_export = tfmot.sparsity.keras.strip_pruning(model_for_pruning)\n",
        "\n",
        "_, pruned_keras_file = tempfile.mkstemp('.h5')\n",
        "keras.models.save_model(model_for_export, pruned_keras_file, include_optimizer=False)\n",
        "print('Saved pruned Keras model to:', pruned_keras_file)"
      ],
      "metadata": {
        "colab": {
          "base_uri": "https://localhost:8080/"
        },
        "id": "1FMuO1dwYc9s",
        "outputId": "c77eb76e-f5dd-4426-9472-1003add98f41"
      },
      "execution_count": 22,
      "outputs": [
        {
          "output_type": "stream",
          "name": "stderr",
          "text": [
            "<ipython-input-22-395ce8c5b5c5>:4: UserWarning: You are saving your model as an HDF5 file via `model.save()`. This file format is considered legacy. We recommend using instead the native Keras format, e.g. `model.save('my_model.keras')`.\n",
            "  keras.models.save_model(model_for_export, pruned_keras_file, include_optimizer=False)\n",
            "WARNING:tensorflow:Compiled the loaded model, but the compiled metrics have yet to be built. `model.compile_metrics` will be empty until you train or evaluate the model.\n"
          ]
        },
        {
          "output_type": "stream",
          "name": "stdout",
          "text": [
            "Saved pruned Keras model to: /tmp/tmp5qzojj4c.h5\n"
          ]
        }
      ]
    },
    {
      "cell_type": "code",
      "source": [
        "converter = tf.lite.TFLiteConverter.from_keras_model(model_for_export)\n",
        "pruned_tflite_model = converter.convert()\n",
        "\n",
        "_, pruned_tflite_file = tempfile.mkstemp('.tflite')\n",
        "\n",
        "with open(pruned_tflite_file, 'wb') as f:\n",
        "  f.write(pruned_tflite_model)\n",
        "\n",
        "print('Saved pruned TFLite model to:', pruned_tflite_file)"
      ],
      "metadata": {
        "colab": {
          "base_uri": "https://localhost:8080/"
        },
        "id": "FVx4HSFNYfKi",
        "outputId": "522fd977-a4e0-4441-8aa2-85c3b9ac6d7a"
      },
      "execution_count": 23,
      "outputs": [
        {
          "output_type": "stream",
          "name": "stdout",
          "text": [
            "Saved pruned TFLite model to: /tmp/tmpjhje2z3x.tflite\n"
          ]
        }
      ]
    },
    {
      "cell_type": "code",
      "source": [
        "def get_gzipped_model_size(file):\n",
        "  # Returns size of gzipped model, in bytes.\n",
        "  import os\n",
        "  import zipfile\n",
        "\n",
        "  _, zipped_file = tempfile.mkstemp('.zip')\n",
        "  with zipfile.ZipFile(zipped_file, 'w', compression=zipfile.ZIP_DEFLATED) as f:\n",
        "    f.write(file)\n",
        "\n",
        "  return os.path.getsize(zipped_file)\n",
        "\n",
        "print(\"Size of gzipped baseline Keras model: %.2f bytes\" % (get_gzipped_model_size(keras_file)))\n",
        "print(\"Size of gzipped pruned Keras model: %.2f bytes\" % (get_gzipped_model_size(pruned_keras_file)))\n",
        "print(\"Size of gzipped pruned TFlite model: %.2f bytes\" % (get_gzipped_model_size(pruned_tflite_file)))"
      ],
      "metadata": {
        "colab": {
          "base_uri": "https://localhost:8080/"
        },
        "id": "IZUEdcRpYhgc",
        "outputId": "848b5d44-7638-4c03-8833-1ab4b3be3f7f"
      },
      "execution_count": 24,
      "outputs": [
        {
          "output_type": "stream",
          "name": "stdout",
          "text": [
            "Size of gzipped baseline Keras model: 401917.00 bytes\n",
            "Size of gzipped pruned Keras model: 402468.00 bytes\n",
            "Size of gzipped pruned TFlite model: 400547.00 bytes\n"
          ]
        }
      ]
    },
    {
      "cell_type": "markdown",
      "source": [
        "### **Statistics**\n",
        "\n",
        "On this step we plot the graphs for comparison"
      ],
      "metadata": {
        "id": "p2U1mxr_cK9s"
      }
    },
    {
      "cell_type": "code",
      "source": [
        "import matplotlib.pyplot as plt\n",
        "\n",
        "categories = ['Baseline', 'Pruned']\n",
        "accuracy_values = [baseline_accuracy * 100, model_for_pruning_accuracy * 100]\n",
        "\n",
        "# plt.figure(figsize=(8, 6))\n",
        "plt.bar(categories, accuracy_values, color=['green', 'red'])\n",
        "plt.xlabel('Model')\n",
        "plt.ylabel('Test Accuracy in Percentage (%)')\n",
        "plt.title(f'Comparison of Baseline and Pruned Model Test Accuracy ')\n",
        "plt.ylim(0, 100)\n",
        "plt.show()\n"
      ],
      "metadata": {
        "colab": {
          "base_uri": "https://localhost:8080/",
          "height": 472
        },
        "id": "6MByuHywcahA",
        "outputId": "36ddf45e-1b16-4fe5-d98d-699f65d2520d"
      },
      "execution_count": 25,
      "outputs": [
        {
          "output_type": "display_data",
          "data": {
            "text/plain": [
              "<Figure size 640x480 with 1 Axes>"
            ],
            "image/png": "[encoded data removed]"
          },
          "metadata": {}
        }
      ]
    },
    {
      "cell_type": "code",
      "source": [
        "import matplotlib.pyplot as plt\n",
        "\n",
        "\n",
        "baseline_size = get_gzipped_model_size(keras_file)\n",
        "pruned_keras_size = get_gzipped_model_size(pruned_keras_file)\n",
        "pruned_tflite_size = get_gzipped_model_size(pruned_tflite_file)\n",
        "\n",
        "models = ['Baseline', 'Pruned Keras', 'Pruned TFlite']\n",
        "\n",
        "sizes = [baseline_size, pruned_keras_size, pruned_tflite_size]\n",
        "\n",
        "\n",
        "# plt.figure(figsize=(10, 6))\n",
        "plt.bar(models, sizes, color=['Green', 'Red', 'lightcoral'])\n",
        "plt.xlabel('Models')\n",
        "plt.ylabel('Size (bytes)')\n",
        "plt.title('Comparison of Gzipped Model Sizes')\n",
        "plt.show()\n"
      ],
      "metadata": {
        "colab": {
          "base_uri": "https://localhost:8080/",
          "height": 472
        },
        "id": "P5px9G1gcUG9",
        "outputId": "dba34f7f-0bb6-4bcb-b94d-21f32910b0fb"
      },
      "execution_count": 26,
      "outputs": [
        {
          "output_type": "display_data",
          "data": {
            "text/plain": [
              "<Figure size 640x480 with 1 Axes>"
            ],
            "image/png": "[encoded data removed]"
          },
          "metadata": {}
        }
      ]
    },
    {
      "cell_type": "markdown",
      "source": [
        "##**Quantization of the model**\n",
        "\n",
        "On this step we quantize the model."
      ],
      "metadata": {
        "id": "wLn2T2N7G-fV"
      }
    },
    {
      "cell_type": "markdown",
      "source": [
        "### **10x smaller model from combining pruning and quantization**"
      ],
      "metadata": {
        "id": "PMGahIWubd6c"
      }
    },
    {
      "cell_type": "code",
      "source": [
        "def representative_dataset():\n",
        "  for data in ds_test.take(100):\n",
        "    yield [tf.dtypes.cast(data[0], tf.float32)]"
      ],
      "metadata": {
        "id": "8wf6EIX-bQXX"
      },
      "execution_count": 27,
      "outputs": []
    },
    {
      "cell_type": "code",
      "source": [
        "converter = tf.lite.TFLiteConverter.from_keras_model(model_for_export)\n",
        "converter.optimizations = [tf.lite.Optimize.DEFAULT]\n",
        "converter.representative_dataset = representative_dataset\n",
        "\n",
        "quantized_and_pruned_tflite_model = converter.convert()\n",
        "\n",
        "_, quantized_and_pruned_tflite_file = tempfile.mkstemp('.tflite')\n",
        "\n",
        "with open(quantized_and_pruned_tflite_file, 'wb') as f:\n",
        "  f.write(quantized_and_pruned_tflite_model)\n",
        "\n",
        "print('Saved quantized and pruned TFLite model to:', quantized_and_pruned_tflite_file)\n",
        "\n",
        "print(\"Size of gzipped baseline Keras model: %.2f bytes\" % (get_gzipped_model_size(keras_file)))\n",
        "print(\"Size of gzipped pruned and quantized TFlite model: %.2f bytes\" % (get_gzipped_model_size(quantized_and_pruned_tflite_file)))"
      ],
      "metadata": {
        "colab": {
          "base_uri": "https://localhost:8080/"
        },
        "id": "cXfaD3GXbjrg",
        "outputId": "436f4c61-e05d-4967-f42c-546a1bb5e4e6"
      },
      "execution_count": 28,
      "outputs": [
        {
          "output_type": "stream",
          "name": "stderr",
          "text": [
            "/usr/local/lib/python3.10/dist-packages/tensorflow/lite/python/convert.py:953: UserWarning: Statistics for quantized inputs were expected, but not specified; continuing anyway.\n",
            "  warnings.warn(\n"
          ]
        },
        {
          "output_type": "stream",
          "name": "stdout",
          "text": [
            "Saved quantized and pruned TFLite model to: /tmp/tmpwly_xaig.tflite\n",
            "Size of gzipped baseline Keras model: 401917.00 bytes\n",
            "Size of gzipped pruned and quantized TFlite model: 95559.00 bytes\n"
          ]
        }
      ]
    },
    {
      "cell_type": "markdown",
      "source": [
        "### **persistence of accuracy from TF to TFLite**"
      ],
      "metadata": {
        "id": "yluQ6mi9pgnv"
      }
    },
    {
      "cell_type": "code",
      "source": [
        "ds_test"
      ],
      "metadata": {
        "colab": {
          "base_uri": "https://localhost:8080/"
        },
        "id": "nRa4KIdjJseo",
        "outputId": "6bc86ded-547f-409d-f2d3-9126fb4a7ea7"
      },
      "execution_count": 29,
      "outputs": [
        {
          "output_type": "execute_result",
          "data": {
            "text/plain": [
              "<_PrefetchDataset element_spec=(TensorSpec(shape=(None, 28, 28, 1), dtype=tf.float32, name=None), TensorSpec(shape=(None,), dtype=tf.int64, name=None))>"
            ]
          },
          "metadata": {},
          "execution_count": 29
        }
      ]
    },
    {
      "cell_type": "code",
      "source": [
        "def evaluate_model(interpreter):\n",
        "    input_index = interpreter.get_input_details()[0][\"index\"]\n",
        "    output_index = interpreter.get_output_details()[0][\"index\"]\n",
        "\n",
        "    prediction_digits = []\n",
        "    test_labels = []\n",
        "\n",
        "    for test_images, labels in ds_test:\n",
        "        # Flatten the batch dimension for test_labels\n",
        "        test_labels.extend(labels.numpy())\n",
        "        for i, test_image in enumerate(test_images):\n",
        "            if i % 1000 == 0:\n",
        "                print(f'Evaluated on {len(prediction_digits)} results so far.')\n",
        "\n",
        "            # Pre-processing: add batch dimension and convert to float32 to match with\n",
        "            # the model's input data format.\n",
        "            test_image = np.expand_dims(test_image, axis=0).astype(np.float32)\n",
        "            interpreter.set_tensor(input_index, test_image)\n",
        "\n",
        "            # Run inference.\n",
        "            interpreter.invoke()\n",
        "\n",
        "            # Post-processing: remove batch dimension and find the digit with highest\n",
        "            # probability.\n",
        "            output = interpreter.get_tensor(output_index)\n",
        "            digit = np.argmax(output[0])\n",
        "            prediction_digits.append(digit)\n",
        "\n",
        "    print('\\n')\n",
        "    # Compare prediction results with ground truth labels to calculate accuracy.\n",
        "    prediction_digits = np.array(prediction_digits)\n",
        "    test_labels = np.array(test_labels)\n",
        "    accuracy = (prediction_digits == test_labels).mean()\n",
        "    return accuracy"
      ],
      "metadata": {
        "id": "quZVh29FpkMS"
      },
      "execution_count": 32,
      "outputs": []
    },
    {
      "cell_type": "code",
      "source": [
        "interpreter = tf.lite.Interpreter(model_content=quantized_and_pruned_tflite_model)\n",
        "interpreter.allocate_tensors()\n",
        "\n",
        "quantized_and_pruned_tflite_model_accuracy = evaluate_model(interpreter)\n",
        "\n",
        "print('Pruned and quantized TFLite test_accuracy:', quantized_and_pruned_tflite_model_accuracy)\n",
        "print('Pruned TF test accuracy:', model_for_pruning_accuracy)\n"
      ],
      "metadata": {
        "colab": {
          "base_uri": "https://localhost:8080/"
        },
        "id": "JFlynmOdpuZB",
        "outputId": "aba4e00d-eecd-437f-f517-29c5fae0fffc"
      },
      "execution_count": 35,
      "outputs": [
        {
          "output_type": "stream",
          "name": "stdout",
          "text": [
            "Evaluated on 0 results so far.\n",
            "Evaluated on 128 results so far.\n",
            "Evaluated on 256 results so far.\n",
            "Evaluated on 384 results so far.\n",
            "Evaluated on 512 results so far.\n",
            "Evaluated on 640 results so far.\n",
            "Evaluated on 768 results so far.\n",
            "Evaluated on 896 results so far.\n",
            "Evaluated on 1024 results so far.\n",
            "Evaluated on 1152 results so far.\n",
            "Evaluated on 1280 results so far.\n",
            "Evaluated on 1408 results so far.\n",
            "Evaluated on 1536 results so far.\n",
            "Evaluated on 1664 results so far.\n",
            "Evaluated on 1792 results so far.\n",
            "Evaluated on 1920 results so far.\n",
            "Evaluated on 2048 results so far.\n",
            "Evaluated on 2176 results so far.\n",
            "Evaluated on 2304 results so far.\n",
            "Evaluated on 2432 results so far.\n",
            "Evaluated on 2560 results so far.\n",
            "Evaluated on 2688 results so far.\n",
            "Evaluated on 2816 results so far.\n",
            "Evaluated on 2944 results so far.\n",
            "Evaluated on 3072 results so far.\n",
            "Evaluated on 3200 results so far.\n",
            "Evaluated on 3328 results so far.\n",
            "Evaluated on 3456 results so far.\n",
            "Evaluated on 3584 results so far.\n",
            "Evaluated on 3712 results so far.\n",
            "Evaluated on 3840 results so far.\n",
            "Evaluated on 3968 results so far.\n",
            "Evaluated on 4096 results so far.\n",
            "Evaluated on 4224 results so far.\n",
            "Evaluated on 4352 results so far.\n",
            "Evaluated on 4480 results so far.\n",
            "Evaluated on 4608 results so far.\n",
            "Evaluated on 4736 results so far.\n",
            "Evaluated on 4864 results so far.\n",
            "Evaluated on 4992 results so far.\n",
            "Evaluated on 5120 results so far.\n",
            "Evaluated on 5248 results so far.\n",
            "Evaluated on 5376 results so far.\n",
            "Evaluated on 5504 results so far.\n",
            "Evaluated on 5632 results so far.\n",
            "Evaluated on 5760 results so far.\n",
            "Evaluated on 5888 results so far.\n",
            "Evaluated on 6016 results so far.\n",
            "Evaluated on 6144 results so far.\n",
            "Evaluated on 6272 results so far.\n",
            "Evaluated on 6400 results so far.\n",
            "Evaluated on 6528 results so far.\n",
            "Evaluated on 6656 results so far.\n",
            "Evaluated on 6784 results so far.\n",
            "Evaluated on 6912 results so far.\n",
            "Evaluated on 7040 results so far.\n",
            "Evaluated on 7168 results so far.\n",
            "Evaluated on 7296 results so far.\n",
            "Evaluated on 7424 results so far.\n",
            "Evaluated on 7552 results so far.\n",
            "Evaluated on 7680 results so far.\n",
            "Evaluated on 7808 results so far.\n",
            "Evaluated on 7936 results so far.\n",
            "Evaluated on 8064 results so far.\n",
            "Evaluated on 8192 results so far.\n",
            "Evaluated on 8320 results so far.\n",
            "Evaluated on 8448 results so far.\n",
            "Evaluated on 8576 results so far.\n",
            "Evaluated on 8704 results so far.\n",
            "Evaluated on 8832 results so far.\n",
            "Evaluated on 8960 results so far.\n",
            "Evaluated on 9088 results so far.\n",
            "Evaluated on 9216 results so far.\n",
            "Evaluated on 9344 results so far.\n",
            "Evaluated on 9472 results so far.\n",
            "Evaluated on 9600 results so far.\n",
            "Evaluated on 9728 results so far.\n",
            "Evaluated on 9856 results so far.\n",
            "Evaluated on 9984 results so far.\n",
            "\n",
            "\n",
            "Pruned and quantized TFLite test_accuracy: 0.9836\n",
            "Pruned TF test accuracy: 0.9836000204086304\n"
          ]
        }
      ]
    },
    {
      "cell_type": "markdown",
      "source": [
        "### **Statistics**"
      ],
      "metadata": {
        "id": "T0HL6ZL8cfhk"
      }
    },
    {
      "cell_type": "code",
      "source": [
        "import matplotlib.pyplot as plt\n",
        "\n",
        "baseline_size = get_gzipped_model_size(keras_file)\n",
        "quantized_pruned_tflite_size = get_gzipped_model_size(quantized_and_pruned_tflite_file)\n",
        "\n",
        "models = ['Baseline Keras', 'Pruned & Quantized TFlite']\n",
        "\n",
        "sizes = [baseline_size, quantized_pruned_tflite_size]\n",
        "\n",
        "# Plotting the bar chart\n",
        "# plt.figure(figsize=(10, 6))\n",
        "plt.bar(models, sizes, color=['Green', 'lightcoral'])\n",
        "plt.xlabel('Models')\n",
        "plt.ylabel('Size (bytes)')\n",
        "plt.title('Comparison of Gzipped Model Sizes')\n",
        "plt.show()\n"
      ],
      "metadata": {
        "colab": {
          "base_uri": "https://localhost:8080/",
          "height": 472
        },
        "id": "xWYAqRPVcj1_",
        "outputId": "161efb6a-47b2-4944-8076-cf7e4ae86cb9"
      },
      "execution_count": 34,
      "outputs": [
        {
          "output_type": "display_data",
          "data": {
            "text/plain": [
              "<Figure size 640x480 with 1 Axes>"
            ],
            "image/png": "[encoded data removed]"
          },
          "metadata": {}
        }
      ]
    },
    {
      "cell_type": "code",
      "source": [
        "import matplotlib.pyplot as plt\n",
        "\n",
        "categories = ['Baseline', 'Pruned' , 'Pruned & Quantized']\n",
        "accuracy_values = [baseline_accuracy * 100, model_for_pruning_accuracy * 100, quantized_and_pruned_tflite_model_accuracy * 100]\n",
        "\n",
        "# plt.figure(figsize=(8, 6))\n",
        "plt.bar(categories, accuracy_values, color=['green', 'red', 'lightcoral'])\n",
        "plt.xlabel('Model')\n",
        "plt.ylabel('Test Accuracy in Percentage (%)')\n",
        "plt.title(f'Comparison of Baseline and Pruned Model Test Accuracy ')\n",
        "plt.ylim(0, 100)\n",
        "plt.show()"
      ],
      "metadata": {
        "colab": {
          "base_uri": "https://localhost:8080/",
          "height": 472
        },
        "id": "y3bNMMpON3OU",
        "outputId": "a33e97b0-dec0-4a2b-d18a-6bb5598b0691"
      },
      "execution_count": 36,
      "outputs": [
        {
          "output_type": "display_data",
          "data": {
            "text/plain": [
              "<Figure size 640x480 with 1 Axes>"
            ],
            "image/png": "[encoded data removed]"
          },
          "metadata": {}
        }
      ]
    },
    {
      "cell_type": "markdown",
      "source": [
        "## **Model Testing**"
      ],
      "metadata": {
        "id": "YCjvZUthHKs9"
      }
    },
    {
      "cell_type": "markdown",
      "source": [
        "## **Exporting Model for Embdeded Device**"
      ],
      "metadata": {
        "id": "Wx50q08rd8nd"
      }
    },
    {
      "cell_type": "code",
      "source": [
        "quantized_and_pruned_tflite_file"
      ],
      "metadata": {
        "colab": {
          "base_uri": "https://localhost:8080/",
          "height": 36
        },
        "id": "grYYGccaeKKe",
        "outputId": "2035ad81-96e1-4a90-d044-ad73fd196860"
      },
      "execution_count": 37,
      "outputs": [
        {
          "output_type": "execute_result",
          "data": {
            "text/plain": [
              "'/tmp/tmpwly_xaig.tflite'"
            ],
            "application/vnd.google.colaboratory.intrinsic+json": {
              "type": "string"
            }
          },
          "metadata": {},
          "execution_count": 37
        }
      ]
    },
    {
      "cell_type": "code",
      "source": [
        "destination_file = \"./quantized_and_pruned_tflite_file.tflite\"\n",
        "\n",
        "if os.path.exists(destination_file):\n",
        "        os.remove(destination_file)\n",
        "        print(\"Previous destination file deleted:\", destination_file)\n",
        "\n",
        "with open(quantized_and_pruned_tflite_file, 'rb') as source:\n",
        "      with open(destination_file, 'wb') as destination:\n",
        "            destination.write(source.read())\n",
        "print(\"File copied successfully to:\", destination_file)"
      ],
      "metadata": {
        "colab": {
          "base_uri": "https://localhost:8080/"
        },
        "id": "kMuqiH9UeaO7",
        "outputId": "d0fd635e-0b51-40fc-f3b7-ed16f0356be1"
      },
      "execution_count": 38,
      "outputs": [
        {
          "output_type": "stream",
          "name": "stdout",
          "text": [
            "File copied successfully to: ./quantized_and_pruned_tflite_file.tflite\n"
          ]
        }
      ]
    },
    {
      "cell_type": "code",
      "source": [
        "!echo \"const unsigned char model[] = {\" > ./model.h\n",
        "!cat quantized_and_pruned_tflite_file.tflite | xxd -i      >> ./model.h\n",
        "!echo \"};\"                              >> ./model.h\n",
        "\n",
        "import os\n",
        "\n",
        "model_h_size = os.path.getsize(\"model.h\")\n",
        "print(f\"Header file, model.h, is {model_h_size:,} bytes.\")\n",
        "print(\"\\nOpen the side panel (refresh if needed). Double click model.h to download the file.\")"
      ],
      "metadata": {
        "id": "OOV3ePdTeEpt",
        "colab": {
          "base_uri": "https://localhost:8080/"
        },
        "outputId": "d8afa24e-6007-456e-e863-fcd1ca2482c4"
      },
      "execution_count": 39,
      "outputs": [
        {
          "output_type": "stream",
          "name": "stdout",
          "text": [
            "Header file, model.h, is 698,496 bytes.\n",
            "\n",
            "Open the side panel (refresh if needed). Double click model.h to download the file.\n"
          ]
        }
      ]
    },
    {
      "cell_type": "markdown",
      "source": [
        "## **Conclusion**"
      ],
      "metadata": {
        "id": "3-vCRpSQHOit"
      }
    }
  ]
}